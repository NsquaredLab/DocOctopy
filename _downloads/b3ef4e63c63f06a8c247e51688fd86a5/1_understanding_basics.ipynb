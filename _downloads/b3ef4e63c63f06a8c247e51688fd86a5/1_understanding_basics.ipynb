{
  "cells": [
    {
      "cell_type": "markdown",
      "metadata": {},
      "source": [
        "\n# Package basics\n\nThis example is a brief introduction to the basic functionalities of the package.\n"
      ]
    },
    {
      "cell_type": "markdown",
      "metadata": {},
      "source": [
        "## Loading data\nFirst we load the EMG example data and convert it to a DocOctoPy Data object.\nThe Data object is the main object in the package and is used to store the data and apply filters to it.\n\n"
      ]
    },
    {
      "cell_type": "code",
      "execution_count": null,
      "metadata": {
        "collapsed": false
      },
      "outputs": [],
      "source": [
        "import pickle as pkl\nfrom doc_octopy.datatypes import EMGData\n\nemg_data = {}\nwith open(\"data/emg.pkl\", \"rb\") as f:\n    for k, v in pkl.load(f).items():\n        emg_data[k] = EMGData(v, sampling_frequency=2044)\n\nprint(emg_data)"
      ]
    },
    {
      "cell_type": "markdown",
      "metadata": {},
      "source": [
        "## Looking at one specific task for simplicity\nThe example data contains EMG from two different tasks labeled as \"1\" and \"2\".\nIn the following we will only look at task one to explain the filtering functionalities.\n\n"
      ]
    },
    {
      "cell_type": "code",
      "execution_count": null,
      "metadata": {
        "collapsed": false
      },
      "outputs": [],
      "source": [
        "task_one_data = emg_data[\"1\"]\n\nprint(task_one_data)"
      ]
    },
    {
      "cell_type": "markdown",
      "metadata": {},
      "source": [
        "## Understanding the saving format\nThe EMGData object has a input_data attribute that stores the raw data.\n\n<div class=\"alert alert-info\"><h4>Note</h4><p>The raw data is stored as a dictionary where the keys are \"data\" and \"filter_sequence\". The \"data\" key stores the raw data and the \"filter_sequence\" key stores the filter sequence applied to the data. For the raw data the filter sequence is always \"Raw\". However, when filters are applied the filter sequence is updated.</p></div>\n\n"
      ]
    },
    {
      "cell_type": "code",
      "execution_count": null,
      "metadata": {
        "collapsed": false
      },
      "outputs": [],
      "source": [
        "print(task_one_data.input_data)"
      ]
    },
    {
      "cell_type": "markdown",
      "metadata": {},
      "source": [
        "## Plotting the raw data\nWe can plot the raw data using matplotlib.\n\n"
      ]
    },
    {
      "cell_type": "code",
      "execution_count": null,
      "metadata": {
        "collapsed": false
      },
      "outputs": [],
      "source": [
        "import matplotlib.pyplot as plt\nimport numpy as np\n\nraw_emg = task_one_data.input_data\n\n# set plt font size\nplt.rcParams.update({\"font.size\": 14})\n\nfor channel in range(raw_emg.shape[0]):\n    plt.plot(raw_emg[channel], color=\"black\", alpha=0.1)\n\nplt.title(\"Raw EMG data\")\nplt.ylabel(\"Amplitude (a. u.)\")\nplt.xticks(\n    np.arange(0, raw_emg.shape[-1] + 1, 2044).astype(int),\n    np.arange(0, raw_emg.shape[-1] / 2044 + 1, 1).astype(int),\n)\nplt.xlabel(\"Time (s)\")\n\nplt.tight_layout()\nplt.show()"
      ]
    },
    {
      "cell_type": "markdown",
      "metadata": {},
      "source": [
        "## Attributes of the EMGData object\nAny Data object, of which EMGData is inheriting from, posses a processed_representations attribute where filtered data  will be stored.\n\n.. note :: We refer to a filtered data as a representation.\n\nAt the beginning this attribute is empty.\n\n"
      ]
    },
    {
      "cell_type": "code",
      "execution_count": null,
      "metadata": {
        "collapsed": false
      },
      "outputs": [],
      "source": [
        "print(task_one_data.processed_representations)"
      ]
    },
    {
      "cell_type": "markdown",
      "metadata": {},
      "source": [
        "## Applying a filter\nThe EMGData object has a method called apply_filter that applies a filter to the data.\nFor example, we can apply a 4th order 20 HZ lowpass filter to the data.\n\n"
      ]
    },
    {
      "cell_type": "code",
      "execution_count": null,
      "metadata": {
        "collapsed": false
      },
      "outputs": [],
      "source": [
        "from scipy.signal import butter\nfrom doc_octopy.datasets.filters.temporal import SOSFrequencyFilter\n\nsos_filter_coefficients = butter(4, 20, \"lowpass\", output=\"sos\", fs=2044)"
      ]
    },
    {
      "cell_type": "markdown",
      "metadata": {},
      "source": [
        "## Creating the filter\nEach filter has a parameter input_is_chunked that specifies if the input data is chunked or not.\nThis must be set explicitly as some filters can only be used on either chunked or non-chunked data.\nFurther having the user specify this parameter forces them to think about the data they are working with.\n\n"
      ]
    },
    {
      "cell_type": "code",
      "execution_count": null,
      "metadata": {
        "collapsed": false
      },
      "outputs": [],
      "source": [
        "lowpass_filter = SOSFrequencyFilter(\n    sos_filter_coefficients, is_output=True, name=\"Lowpass\"\n)\nprint(lowpass_filter)"
      ]
    },
    {
      "cell_type": "markdown",
      "metadata": {},
      "source": [
        "## Applying the filter\nTo apply the filter we call the apply_filter method on the EMGData object.\n\n"
      ]
    },
    {
      "cell_type": "code",
      "execution_count": null,
      "metadata": {
        "collapsed": false
      },
      "outputs": [],
      "source": [
        "task_one_data.apply_filter(\n    lowpass_filter, representation_to_filter=\"Last\"\n)\n\nprint(task_one_data.processed_representations)"
      ]
    },
    {
      "cell_type": "markdown",
      "metadata": {},
      "source": [
        "## Accessing the filtered data\nThe filtered data is saved in the processed_data attribute of the EMGData object.\nProcessed_data is a dictionary where the keys are the names of the filters sequence applied to the data.\n\nThe key of the last filter sequence always is marked with \"(Output)\". This is the data that will be outputted by the dataset pipeline.\n\nIn our example the key is (Output) Raw->SOSFrequencyFilter.\n\nThe data can be accessed by indexing the processed_data attribute or by indexing the EMGData directly.\nIn case you do not want to index using the filter sequence name, you can retrieve the last processed data by indexing with \"Last\".\n\n"
      ]
    },
    {
      "cell_type": "code",
      "execution_count": null,
      "metadata": {
        "collapsed": false
      },
      "outputs": [],
      "source": [
        "print(task_one_data)\n\nprint(\n    np.allclose(\n        task_one_data.processed_representations[\"Lowpass\"],\n        task_one_data[\"Last\"],\n    )\n)"
      ]
    }
  ],
  "metadata": {
    "kernelspec": {
      "display_name": "Python 3",
      "language": "python",
      "name": "python3"
    },
    "language_info": {
      "codemirror_mode": {
        "name": "ipython",
        "version": 3
      },
      "file_extension": ".py",
      "mimetype": "text/x-python",
      "name": "python",
      "nbconvert_exporter": "python",
      "pygments_lexer": "ipython3",
      "version": "3.10.14"
    }
  },
  "nbformat": 4,
  "nbformat_minor": 0
}